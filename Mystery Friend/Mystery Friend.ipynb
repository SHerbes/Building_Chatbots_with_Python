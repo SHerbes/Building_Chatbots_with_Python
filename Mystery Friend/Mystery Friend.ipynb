{
 "cells": [
  {
   "cell_type": "markdown",
   "id": "8869af05",
   "metadata": {},
   "source": [
    "# Mystery Friend"
   ]
  },
  {
   "cell_type": "markdown",
   "id": "362e05f6",
   "metadata": {},
   "source": [
    "You've received an anonymous postcard from a friend who you haven't seen in years. Your friend did not leave a name, but the card is definitely addressed to you. So far, you've narrowed your search down to three friends, based on handwriting:\n",
    "- Emma Goldman\n",
    "- Matthew Henson\n",
    "- TingFang Wu\n",
    "\n",
    "But which one sent you the card?\n",
    "\n",
    "Just like you can classify a message as spam or not spam with a spam filter, you can classify writing as related to one friend or another by building a kind of friend writing classifier. You have past writing from all three friends stored up in the variable `friends_docs`, which means you can use scikit-learn's bag-of-words and Naive Bayes classifier to determine who the mystery friend is!\n",
    "\n",
    "Ready?"
   ]
  },
  {
   "cell_type": "markdown",
   "id": "65f1d856",
   "metadata": {},
   "source": [
    "## Feature Vectors Are in the Bag with Scikit-Learn"
   ]
  },
  {
   "cell_type": "markdown",
   "id": "203a9ff3",
   "metadata": {},
   "source": [
    "1. In the code block below, import `CountVectorizer` from `sklearn.feature_extraction.text`. Below it, import `MultinomialNB` from `sklearn.naive_bayes`."
   ]
  },
  {
   "cell_type": "code",
   "execution_count": 1,
   "id": "3ccbd886",
   "metadata": {},
   "outputs": [],
   "source": [
    "# import sklearn modules here:\n",
    "from sklearn.feature_extraction.text import CountVectorizer\n",
    "from sklearn.naive_bayes import MultinomialNB"
   ]
  },
  {
   "cell_type": "markdown",
   "id": "da6a2a00",
   "metadata": {},
   "source": [
    "2. Define `bow_vectorizer` as an implementation of `CountVectorizer`."
   ]
  },
  {
   "cell_type": "code",
   "execution_count": 2,
   "id": "e6d6464f",
   "metadata": {},
   "outputs": [],
   "source": [
    "# Create bow_vectorizer:\n",
    "bow_vectorizer = CountVectorizer()"
   ]
  },
  {
   "cell_type": "markdown",
   "id": "968a39cb",
   "metadata": {},
   "source": [
    "3. Use your newly minted `bow_vectorizer` to both `fit` (train) and `transform` (vectorize) all your friends' writing (stored in the variable `friends_docs`). Save the resulting vector object as `friends_vectors`."
   ]
  },
  {
   "cell_type": "code",
   "execution_count": 3,
   "id": "b1366163",
   "metadata": {},
   "outputs": [
    {
     "name": "stdout",
     "output_type": "stream",
     "text": [
      "importing Jupyter notebook from goldman_emma_raw.ipynb\n",
      "importing Jupyter notebook from henson_matthew_raw.ipynb\n",
      "importing Jupyter notebook from wu_tingfang_raw.ipynb\n"
     ]
    }
   ],
   "source": [
    "import import_ipynb\n",
    "\n",
    "from goldman_emma_raw import goldman_docs\n",
    "from henson_matthew_raw import henson_docs\n",
    "from wu_tingfang_raw import wu_docs\n",
    "\n",
    "friends_docs = goldman_docs + henson_docs + wu_docs\n",
    "\n",
    "# Define friends_vectors:\n",
    "friends_vectors = bow_vectorizer.fit_transform(friends_docs)"
   ]
  },
  {
   "cell_type": "code",
   "execution_count": 4,
   "id": "26390afd",
   "metadata": {},
   "outputs": [
    {
     "data": {
      "text/plain": [
       "(461, 3375)"
      ]
     },
     "execution_count": 4,
     "metadata": {},
     "output_type": "execute_result"
    }
   ],
   "source": [
    "friends_vectors.shape"
   ]
  },
  {
   "cell_type": "markdown",
   "id": "21578a5d",
   "metadata": {},
   "source": [
    "4. Create a new variable `mystery_vector`. Assign to it the vectorized form of `[mystery_postcard]` using the vectorizer's `.transform()` method.\n",
    "\n",
    "   (`mystery_postcard` is a string, while the vectorizer expects a list as an argument.)"
   ]
  },
  {
   "cell_type": "code",
   "execution_count": 11,
   "id": "9d7dc322",
   "metadata": {},
   "outputs": [],
   "source": [
    "mystery_postcard = \"\"\"\n",
    "My friend,\n",
    "From the 10th of July to the 13th, a fierce storm raged, clouds of\n",
    "freeing spray broke over the ship, incasing her in a coat of icy mail,\n",
    "and the tempest forced all of the ice out of the lower end of the\n",
    "channel and beyond as far as the eye could see, but the _Roosevelt_\n",
    "still remained surrounded by ice.\n",
    "Hope to see you soon.\n",
    "\"\"\"\n",
    "\n",
    "# Define mystery_vector:\n",
    "mystery_vector = bow_vectorizer.transform([mystery_postcard])\n"
   ]
  },
  {
   "cell_type": "markdown",
   "id": "4cdc6963",
   "metadata": {},
   "source": [
    "## This Mystery Friend Gets Classified"
   ]
  },
  {
   "cell_type": "markdown",
   "id": "f47ac51e",
   "metadata": {},
   "source": [
    "5. You've vectorized and prepared all the documents. Let's take a look at your friends' writing samples to get a sense of how they write.\n",
    "\n",
    "   Print out one document of each friend's writing - try any one between `0` and `140`. (Your friends' documents are stored in `goldman_docs`, `henson_docs`, and `wu_docs`.)"
   ]
  },
  {
   "cell_type": "code",
   "execution_count": 18,
   "id": "7ca6fdb0",
   "metadata": {},
   "outputs": [
    {
     "name": "stdout",
     "output_type": "stream",
     "text": [
      "Emma Goldman's writing:\n",
      " \n",
      "The history of human growth and development is at the same time the\n",
      "history of the terrible struggle of every new idea heralding the\n",
      "approach of a brighter dawn\n",
      "\n",
      "Matthew Henson's writing:\n",
      " He\n",
      "learned to speak English and slept underneath my bunk.\n",
      "\n",
      "This expedition was larger in numbers than the previous one, but the\n",
      "results, owing to the impossible weather conditions, were by no means\n",
      "successful, and the following season all of the expedition returned to\n",
      "the United States except Commander Peary, Hugh J\n",
      "\n",
      "Wu Tingfang's writing:\n",
      "  On several occasions lady friends\n",
      "from Washington, Philadelphia, and New York have visited me in Peking.\n",
      "This is one of the Americans' strong points\n"
     ]
    }
   ],
   "source": [
    "# Print out a document from each friend:\n",
    "\n",
    "print(\"Emma Goldman's writing:\\n\", goldman_docs[0])\n",
    "print(\"\\nMatthew Henson's writing:\\n\", henson_docs[46])\n",
    "print(\"\\nWu Tingfang's writing:\\n\", wu_docs[100])\n"
   ]
  },
  {
   "cell_type": "markdown",
   "id": "61585924",
   "metadata": {},
   "source": [
    "6. Have an inkling about which friend wrote the mystery card? We can use a classifier to confirm those suspicions...\n",
    "\n",
    "   Implement a Naive Bayes classifier using `MultinomialNB`. Save the result to `friends_classifier`."
   ]
  },
  {
   "cell_type": "code",
   "execution_count": 14,
   "id": "94d04847",
   "metadata": {},
   "outputs": [],
   "source": [
    "# Define friends_classifier:\n",
    "friends_classifier = MultinomialNB()"
   ]
  },
  {
   "cell_type": "markdown",
   "id": "5c592f14",
   "metadata": {},
   "source": [
    "7. Train `friends_classifier` on `friends_vectors` and `friends_labels` using the classifier's `.fit()` method."
   ]
  },
  {
   "cell_type": "code",
   "execution_count": 29,
   "id": "ab331e8b",
   "metadata": {},
   "outputs": [
    {
     "data": {
      "text/html": [
       "<style>#sk-container-id-2 {color: black;background-color: white;}#sk-container-id-2 pre{padding: 0;}#sk-container-id-2 div.sk-toggleable {background-color: white;}#sk-container-id-2 label.sk-toggleable__label {cursor: pointer;display: block;width: 100%;margin-bottom: 0;padding: 0.3em;box-sizing: border-box;text-align: center;}#sk-container-id-2 label.sk-toggleable__label-arrow:before {content: \"▸\";float: left;margin-right: 0.25em;color: #696969;}#sk-container-id-2 label.sk-toggleable__label-arrow:hover:before {color: black;}#sk-container-id-2 div.sk-estimator:hover label.sk-toggleable__label-arrow:before {color: black;}#sk-container-id-2 div.sk-toggleable__content {max-height: 0;max-width: 0;overflow: hidden;text-align: left;background-color: #f0f8ff;}#sk-container-id-2 div.sk-toggleable__content pre {margin: 0.2em;color: black;border-radius: 0.25em;background-color: #f0f8ff;}#sk-container-id-2 input.sk-toggleable__control:checked~div.sk-toggleable__content {max-height: 200px;max-width: 100%;overflow: auto;}#sk-container-id-2 input.sk-toggleable__control:checked~label.sk-toggleable__label-arrow:before {content: \"▾\";}#sk-container-id-2 div.sk-estimator input.sk-toggleable__control:checked~label.sk-toggleable__label {background-color: #d4ebff;}#sk-container-id-2 div.sk-label input.sk-toggleable__control:checked~label.sk-toggleable__label {background-color: #d4ebff;}#sk-container-id-2 input.sk-hidden--visually {border: 0;clip: rect(1px 1px 1px 1px);clip: rect(1px, 1px, 1px, 1px);height: 1px;margin: -1px;overflow: hidden;padding: 0;position: absolute;width: 1px;}#sk-container-id-2 div.sk-estimator {font-family: monospace;background-color: #f0f8ff;border: 1px dotted black;border-radius: 0.25em;box-sizing: border-box;margin-bottom: 0.5em;}#sk-container-id-2 div.sk-estimator:hover {background-color: #d4ebff;}#sk-container-id-2 div.sk-parallel-item::after {content: \"\";width: 100%;border-bottom: 1px solid gray;flex-grow: 1;}#sk-container-id-2 div.sk-label:hover label.sk-toggleable__label {background-color: #d4ebff;}#sk-container-id-2 div.sk-serial::before {content: \"\";position: absolute;border-left: 1px solid gray;box-sizing: border-box;top: 0;bottom: 0;left: 50%;z-index: 0;}#sk-container-id-2 div.sk-serial {display: flex;flex-direction: column;align-items: center;background-color: white;padding-right: 0.2em;padding-left: 0.2em;position: relative;}#sk-container-id-2 div.sk-item {position: relative;z-index: 1;}#sk-container-id-2 div.sk-parallel {display: flex;align-items: stretch;justify-content: center;background-color: white;position: relative;}#sk-container-id-2 div.sk-item::before, #sk-container-id-2 div.sk-parallel-item::before {content: \"\";position: absolute;border-left: 1px solid gray;box-sizing: border-box;top: 0;bottom: 0;left: 50%;z-index: -1;}#sk-container-id-2 div.sk-parallel-item {display: flex;flex-direction: column;z-index: 1;position: relative;background-color: white;}#sk-container-id-2 div.sk-parallel-item:first-child::after {align-self: flex-end;width: 50%;}#sk-container-id-2 div.sk-parallel-item:last-child::after {align-self: flex-start;width: 50%;}#sk-container-id-2 div.sk-parallel-item:only-child::after {width: 0;}#sk-container-id-2 div.sk-dashed-wrapped {border: 1px dashed gray;margin: 0 0.4em 0.5em 0.4em;box-sizing: border-box;padding-bottom: 0.4em;background-color: white;}#sk-container-id-2 div.sk-label label {font-family: monospace;font-weight: bold;display: inline-block;line-height: 1.2em;}#sk-container-id-2 div.sk-label-container {text-align: center;}#sk-container-id-2 div.sk-container {/* jupyter's `normalize.less` sets `[hidden] { display: none; }` but bootstrap.min.css set `[hidden] { display: none !important; }` so we also need the `!important` here to be able to override the default hidden behavior on the sphinx rendered scikit-learn.org. See: https://github.com/scikit-learn/scikit-learn/issues/21755 */display: inline-block !important;position: relative;}#sk-container-id-2 div.sk-text-repr-fallback {display: none;}</style><div id=\"sk-container-id-2\" class=\"sk-top-container\"><div class=\"sk-text-repr-fallback\"><pre>MultinomialNB()</pre><b>In a Jupyter environment, please rerun this cell to show the HTML representation or trust the notebook. <br />On GitHub, the HTML representation is unable to render, please try loading this page with nbviewer.org.</b></div><div class=\"sk-container\" hidden><div class=\"sk-item\"><div class=\"sk-estimator sk-toggleable\"><input class=\"sk-toggleable__control sk-hidden--visually\" id=\"sk-estimator-id-2\" type=\"checkbox\" checked><label for=\"sk-estimator-id-2\" class=\"sk-toggleable__label sk-toggleable__label-arrow\">MultinomialNB</label><div class=\"sk-toggleable__content\"><pre>MultinomialNB()</pre></div></div></div></div></div>"
      ],
      "text/plain": [
       "MultinomialNB()"
      ]
     },
     "execution_count": 29,
     "metadata": {},
     "output_type": "execute_result"
    }
   ],
   "source": [
    "friends_labels = [\"Emma\"] * len(goldman_docs) + [\"Matthew\"] * len(henson_docs) + [\"Tingfang\"] * len(wu_docs)\n",
    "\n",
    "# Train the classifier:\n",
    "friends_classifier.fit(friends_vectors, friends_labels)"
   ]
  },
  {
   "cell_type": "markdown",
   "id": "40993688",
   "metadata": {},
   "source": [
    "8. Change `predictions` value from `[\"None Yet\"]` to the classifier's prediction about which friend wrote the postcard. You can do this by calling the classifier's `predict()` method on the `mystery_vector`."
   ]
  },
  {
   "cell_type": "code",
   "execution_count": 30,
   "id": "69dffb15",
   "metadata": {},
   "outputs": [],
   "source": [
    "# Change predictions:\n",
    "predictions = friends_classifier.predict(mystery_vector)"
   ]
  },
  {
   "cell_type": "markdown",
   "id": "d93957d7",
   "metadata": {},
   "source": [
    "## Mystery Revealed!"
   ]
  },
  {
   "cell_type": "markdown",
   "id": "807d3b26",
   "metadata": {},
   "source": [
    "9. Uncomment the final print statement and run the code block below to see who your mystery friend was all along!"
   ]
  },
  {
   "cell_type": "code",
   "execution_count": 31,
   "id": "714701ec",
   "metadata": {},
   "outputs": [
    {
     "name": "stdout",
     "output_type": "stream",
     "text": [
      "The postcard was from Matthew!\n"
     ]
    }
   ],
   "source": [
    "mystery_friend = predictions[0] if predictions[0] else \"someone else\"\n",
    "\n",
    "# Uncomment the print statement:\n",
    "print(\"The postcard was from {}!\".format(mystery_friend))"
   ]
  },
  {
   "cell_type": "markdown",
   "id": "e0d26a4b",
   "metadata": {},
   "source": [
    "10. But does it really work? Find some lines by Emma Goldman, Matthew Henson, and TingFang Wu on <a href=\"http://www.gutenberg.org\" target=\"_blank\">gutenberg.org</a> and save them to `mystery_postcard` to see how the classifier holds up!\n",
    "\n",
    "    Try using the `.predict_proba()` method instead of `.predict()` and print out `predictions` to see the estimated probabilities that the `mystery_postcard` was written by each person.\n",
    "   \n",
    "    What happens when you add in a recent email or text instead?"
   ]
  },
  {
   "cell_type": "code",
   "execution_count": 35,
   "id": "93dd91fb",
   "metadata": {},
   "outputs": [
    {
     "name": "stdout",
     "output_type": "stream",
     "text": [
      "Emma: 1.10%\n",
      "Emma: 98.90%\n",
      "Emma: 0.00%\n"
     ]
    },
    {
     "ename": "IndexError",
     "evalue": "index 3 is out of bounds for axis 0 with size 3",
     "output_type": "error",
     "traceback": [
      "\u001b[1;31m---------------------------------------------------------------------------\u001b[0m",
      "\u001b[1;31mIndexError\u001b[0m                                Traceback (most recent call last)",
      "\u001b[1;32m~\\AppData\\Local\\Temp\\ipykernel_4996\\1253688309.py\u001b[0m in \u001b[0;36m<module>\u001b[1;34m\u001b[0m\n\u001b[0;32m      2\u001b[0m \u001b[1;33m\u001b[0m\u001b[0m\n\u001b[0;32m      3\u001b[0m \u001b[1;32mfor\u001b[0m \u001b[0mi\u001b[0m\u001b[1;33m,\u001b[0m \u001b[0mlabel\u001b[0m \u001b[1;32min\u001b[0m \u001b[0menumerate\u001b[0m\u001b[1;33m(\u001b[0m\u001b[0mfriends_labels\u001b[0m\u001b[1;33m)\u001b[0m\u001b[1;33m:\u001b[0m\u001b[1;33m\u001b[0m\u001b[1;33m\u001b[0m\u001b[0m\n\u001b[1;32m----> 4\u001b[1;33m     \u001b[0mprint\u001b[0m\u001b[1;33m(\u001b[0m\u001b[1;34mf\"{label}: {predictions2[0][i]*100:.2f}%\"\u001b[0m\u001b[1;33m)\u001b[0m\u001b[1;33m\u001b[0m\u001b[1;33m\u001b[0m\u001b[0m\n\u001b[0m",
      "\u001b[1;31mIndexError\u001b[0m: index 3 is out of bounds for axis 0 with size 3"
     ]
    }
   ],
   "source": [
    "predictions2 = friends_classifier.predict_proba(mystery_vector)\n",
    "\n",
    "for i, label in enumerate(friends_labels):\n",
    "    print(f\"{label}: {predictions2[0][i]*100:.2f}%\")\n"
   ]
  },
  {
   "cell_type": "code",
   "execution_count": 26,
   "id": "1691813b",
   "metadata": {},
   "outputs": [
    {
     "name": "stdout",
     "output_type": "stream",
     "text": [
      "Goldman docs: \n",
      "\n",
      "\n",
      "['\\nThe history of human growth and development is at the same time the\\nhistory of the terrible struggle of every new idea heralding the\\napproach of a brighter dawn', ' In its tenacious hold on tradition, the\\nOld has never hesitated to make use of the foulest and cruelest means\\nto stay the advent of the New, in whatever form or period the latter\\nmay have asserted itself', ' Nor need we retrace our steps into the\\ndistant past to realize the enormity of opposition, difficulties, and\\nhardships placed in the path of every progressive idea']\n",
      "Henson docs: \n",
      "\n",
      "\n",
      "['\\nWhen the news of the discovery of the North Pole, by Commander Peary,\\nwas first sent to the world, a distinguished citizen of New York City,\\nwell versed in the affairs of the Peary Arctic Club, made the statement,\\nthat he was sure that Matt Henson had been with Commander Peary on the\\nday of the discovery', \"\\n\\nThere were not many people who knew who Henson\\nwas, or the reason why the gentleman had made the remark, and, when\\nasked why he was so certain, he explained that, for the best part of the\\ntwenty years of Commander Peary's Arctic work, his faithful and often\\nonly companion was Matthew Alexander Henson.\\n\\nTo-day there is a more general knowledge of Commander Peary, his work\\nand his success, and a vague understanding of the fact that Commander\\nPeary's sole companion from the realm of civilization, when he stood at\\nthe North Pole, was Matthew A\", 'Henson, a Colored Man.\\n\\nTo satisfy the demand of perfectly natural curiosity, I have undertaken\\nto write a brief autobiography, giving particularly an account of my\\nArctic work.\\n\\nI was born in Charles County, Maryland, August 8, 1866']\n",
      "Wu docs: \n",
      "\n",
      "\n",
      "['\\nThe Importance of Names\\n\\n  \"What\\'s in a name?  That which we call a rose\\n  By any other name would smell as sweet.\"\\n\\n\\nNotwithstanding these lines, I maintain that the selection of names is\\nimportant', ' They should always be carefully chosen', ' They are apt to\\ninfluence friendships or to excite prejudices according to their\\nsignificance']\n"
     ]
    }
   ],
   "source": [
    "print(\"Goldman docs: \\n\\n\")\n",
    "print(goldman_docs[:3])\n",
    "\n",
    "\n"
   ]
  },
  {
   "cell_type": "code",
   "execution_count": 27,
   "id": "9037a224",
   "metadata": {},
   "outputs": [
    {
     "name": "stdout",
     "output_type": "stream",
     "text": [
      "Henson docs: \n",
      "\n",
      "\n",
      "['\\nWhen the news of the discovery of the North Pole, by Commander Peary,\\nwas first sent to the world, a distinguished citizen of New York City,\\nwell versed in the affairs of the Peary Arctic Club, made the statement,\\nthat he was sure that Matt Henson had been with Commander Peary on the\\nday of the discovery', \"\\n\\nThere were not many people who knew who Henson\\nwas, or the reason why the gentleman had made the remark, and, when\\nasked why he was so certain, he explained that, for the best part of the\\ntwenty years of Commander Peary's Arctic work, his faithful and often\\nonly companion was Matthew Alexander Henson.\\n\\nTo-day there is a more general knowledge of Commander Peary, his work\\nand his success, and a vague understanding of the fact that Commander\\nPeary's sole companion from the realm of civilization, when he stood at\\nthe North Pole, was Matthew A\", 'Henson, a Colored Man.\\n\\nTo satisfy the demand of perfectly natural curiosity, I have undertaken\\nto write a brief autobiography, giving particularly an account of my\\nArctic work.\\n\\nI was born in Charles County, Maryland, August 8, 1866']\n"
     ]
    }
   ],
   "source": [
    "print(\"Henson docs: \\n\\n\")\n",
    "print(henson_docs[:3])"
   ]
  },
  {
   "cell_type": "code",
   "execution_count": 28,
   "id": "16456375",
   "metadata": {},
   "outputs": [
    {
     "name": "stdout",
     "output_type": "stream",
     "text": [
      "Wu docs: \n",
      "\n",
      "\n",
      "['\\nThe Importance of Names\\n\\n  \"What\\'s in a name?  That which we call a rose\\n  By any other name would smell as sweet.\"\\n\\n\\nNotwithstanding these lines, I maintain that the selection of names is\\nimportant', ' They should always be carefully chosen', ' They are apt to\\ninfluence friendships or to excite prejudices according to their\\nsignificance']\n"
     ]
    }
   ],
   "source": [
    "print(\"Wu docs: \\n\\n\")\n",
    "print(wu_docs[:3])"
   ]
  },
  {
   "cell_type": "code",
   "execution_count": null,
   "id": "3904258f",
   "metadata": {},
   "outputs": [],
   "source": []
  }
 ],
 "metadata": {
  "kernelspec": {
   "display_name": "Python 3 (ipykernel)",
   "language": "python",
   "name": "python3"
  },
  "language_info": {
   "codemirror_mode": {
    "name": "ipython",
    "version": 3
   },
   "file_extension": ".py",
   "mimetype": "text/x-python",
   "name": "python",
   "nbconvert_exporter": "python",
   "pygments_lexer": "ipython3",
   "version": "3.9.16"
  }
 },
 "nbformat": 4,
 "nbformat_minor": 5
}
